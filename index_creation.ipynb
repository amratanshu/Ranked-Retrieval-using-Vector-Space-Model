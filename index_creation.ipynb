{
 "cells": [
  {
   "cell_type": "code",
   "execution_count": 1,
   "metadata": {},
   "outputs": [],
   "source": [
    "import collections\n",
    "import math\n",
    "import matplotlib.pyplot as plt\n",
    "from bs4 import BeautifulSoup\n",
    "import nltk\n",
    "\n",
    "from nltk import FreqDist\n",
    "from nltk.util import ngrams\n",
    "from nltk.tokenize import word_tokenize\n",
    "from nltk.stem import PorterStemmer\n",
    "from nltk.stem import LancasterStemmer\n",
    "from nltk.stem import WordNetLemmatizer \n",
    "from nltk.corpus import stopwords\n",
    "import numpy as np\n",
    "import string\n",
    "\n",
    "import matplotlib.pyplot as plt"
   ]
  },
  {
   "cell_type": "code",
   "execution_count": 2,
   "metadata": {},
   "outputs": [],
   "source": [
    "ag40 = open('wiki_40', encoding=\"utf8\")\n",
    "\n",
    "soup = BeautifulSoup(ag40)\n"
   ]
  },
  {
   "cell_type": "code",
   "execution_count": 3,
   "metadata": {},
   "outputs": [],
   "source": [
    "docList = soup.findAll('doc')\n",
    "numberDocs = len(docList)\n",
    "docs = []\n",
    "\n",
    "for i in range(numberDocs):\n",
    "    soupTemp = BeautifulSoup(str(docList[i]))\n",
    "    txtTemp = soupTemp.get_text()\n",
    "    docs.append(txtTemp)\n",
    "    \n",
    "\n"
   ]
  },
  {
   "cell_type": "code",
   "execution_count": 4,
   "metadata": {},
   "outputs": [],
   "source": [
    "import re\n",
    "\n",
    "# for converting to lower case and removing punctuation\n",
    "for i in range(numberDocs):\n",
    "    docs[i] = docs[i].lower()\n",
    "    docs[i] = re.sub(r'[^\\w\\s]','',docs[i])\n",
    "    "
   ]
  },
  {
   "cell_type": "code",
   "execution_count": 5,
   "metadata": {},
   "outputs": [],
   "source": [
    "dictList = [dict() for x in range(numberDocs)]\n",
    "\n",
    "# making indiviudal dictionaries for each document\n",
    "for i in range(numberDocs):\n",
    "    tempDict = {}\n",
    "    \n",
    "    text_tokens = nltk.tokenize.word_tokenize(docs[i])\n",
    "    #print(text_tokens)\n",
    "    \n",
    "    for j in range(len(text_tokens)):\n",
    "        if(text_tokens[j] in tempDict):\n",
    "            tempValue = tempDict[text_tokens[j]]\n",
    "            for k in range(len(tempValue)):\n",
    "                if(tempValue[k][0] == i):\n",
    "                    tempValue[k][1] = tempValue[k][1] + 1\n",
    "                    break\n",
    "                else:\n",
    "                    tempDict[text_tokens[j]].append([i,1])\n",
    "        else:\n",
    "            tempDict[text_tokens[j]] = [[i,1]]\n",
    "    \n",
    "    dictList[i] = tempDict"
   ]
  },
  {
   "cell_type": "code",
   "execution_count": 6,
   "metadata": {},
   "outputs": [],
   "source": [
    "# function to merge two dictionaries\n",
    "\n",
    "def mergeDict(dict1, dict2):\n",
    "    result = {}\n",
    "    for key in dict1.keys():\n",
    "        result[key] = dict1[key]\n",
    "   \n",
    "    for key in result.keys():\n",
    "        if key in dict2.keys():\n",
    "            for g in dict2[key]:\n",
    "                result[key].append(g)\n",
    "   \n",
    "    for key in dict2.keys():\n",
    "        if key not in result.keys():\n",
    "            result[key] = dict2[key]\n",
    "           \n",
    "    return result"
   ]
  },
  {
   "cell_type": "code",
   "execution_count": 7,
   "metadata": {},
   "outputs": [],
   "source": [
    "# d is the final main index\n",
    "d = {}\n",
    "d = mergeDict(dictList[0],dictList[1])\n",
    "\n",
    "#merging each dictionary one by one\n",
    "for i in range(2,numberDocs):\n",
    "    d = mergeDict(d,dictList[i])\n",
    "    #print(i)"
   ]
  },
  {
   "cell_type": "code",
   "execution_count": 8,
   "metadata": {},
   "outputs": [],
   "source": [
    "\n",
    "try:\n",
    "    import cPickle as pickle\n",
    "except ImportError:  # python 3.x\n",
    "    import pickle\n",
    "\n",
    "    # saving the final index in a .p file\n",
    "\n",
    "with open('dictionary.p', 'wb') as fp:\n",
    "    pickle.dump(d, fp, protocol=pickle.HIGHEST_PROTOCOL)"
   ]
  }
 ],
 "metadata": {
  "kernelspec": {
   "display_name": "Python 3",
   "language": "python",
   "name": "python3"
  },
  "language_info": {
   "codemirror_mode": {
    "name": "ipython",
    "version": 3
   },
   "file_extension": ".py",
   "mimetype": "text/x-python",
   "name": "python",
   "nbconvert_exporter": "python",
   "pygments_lexer": "ipython3",
   "version": "3.7.3"
  }
 },
 "nbformat": 4,
 "nbformat_minor": 2
}
